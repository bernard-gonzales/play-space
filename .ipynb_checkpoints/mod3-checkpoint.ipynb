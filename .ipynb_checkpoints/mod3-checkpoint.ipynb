{
 "cells": [
  {
   "cell_type": "code",
   "execution_count": null,
   "id": "d07c88fe-9714-4435-91ba-e75d6eca9fdb",
   "metadata": {},
   "outputs": [],
   "source": [
    "val = -1\n",
    "\n",
    "if -10 < val < -5:\n",
    "    print(\"bucket 1\")\n",
    "elif -5 <= val < -2:\n",
    "    print(\"bucket 2\")\n",
    "elif val == -2:\n",
    "    print(\"bucket 3\")"
   ]
  },
  {
   "cell_type": "code",
   "execution_count": null,
   "id": "87112dd7-9319-4df3-8bad-579aab7e30db",
   "metadata": {},
   "outputs": [],
   "source": [
    "val = -1\n",
    "\n",
    "if -10 < val < -5:\n",
    "    print(\"bucket 1\")\n",
    "elif -5 <= val < -2:\n",
    "    print(\"bucket 2\")\n",
    "elif val == -2:\n",
    "    print(\"bucket 3\")\n",
    "else:\n",
    "    print(\"bucket 4\")"
   ]
  },
  {
   "cell_type": "code",
   "execution_count": null,
   "id": "678e1441-9209-44d0-92e3-6d4ace112a35",
   "metadata": {},
   "outputs": [],
   "source": [
    "x = [-2, 8, 0, 5, 6]\n",
    "max_val = max(x)\n",
    "for i in x:\n",
    "    if i < max_val:\n",
    "        print(i)\n",
    "    else:\n",
    "        print(\"max_val\")"
   ]
  },
  {
   "cell_type": "code",
   "execution_count": null,
   "id": "ed6b6bdb-5ae1-451a-b943-76b12dc17d1b",
   "metadata": {},
   "outputs": [],
   "source": [
    "it = 0\n",
    "max_iter = 100\n",
    "while it < max_iter:\n",
    "    if it == 0 or it % 10 == 0:\n",
    "        print(it)\n",
    "    it += 1"
   ]
  },
  {
   "cell_type": "code",
   "execution_count": 1,
   "id": "56093976-9aee-4833-bab7-f2577b6b3532",
   "metadata": {},
   "outputs": [
    {
     "name": "stdout",
     "output_type": "stream",
     "text": [
      "london\n",
      "alex\n",
      "casey\n",
      "jenna\n"
     ]
    }
   ],
   "source": [
    "proper_nouns = [\"London\", \"Alex\", \"Casey\", \"Jenna\"]\n",
    "for i in proper_nouns:\n",
    "    print(i.lower())"
   ]
  },
  {
   "cell_type": "code",
   "execution_count": 2,
   "id": "4641ee31-e8c6-4a2d-adb4-04cc7b191256",
   "metadata": {},
   "outputs": [
    {
     "name": "stdout",
     "output_type": "stream",
     "text": [
      "London\n",
      "Alex\n",
      "Casey\n",
      "Jenna\n"
     ]
    }
   ],
   "source": [
    "myit = iter(proper_nouns)\n",
    "print(next(myit)) \n",
    "print(next(myit)) \n",
    "print(next(myit)) \n",
    "print(next(myit)) "
   ]
  },
  {
   "cell_type": "code",
   "execution_count": null,
   "id": "bb2f4273-2a19-4c0d-9dce-26805de79072",
   "metadata": {},
   "outputs": [],
   "source": [
    "cities = {\n",
    "    \"Haymarket\": 20169,\n",
    "    \"Charlottesville\": 22903\n",
    "}\n",
    "for city, zipcode in cities.items():\n",
    "    print(city, zipcode)"
   ]
  },
  {
   "cell_type": "code",
   "execution_count": null,
   "id": "8f4a617c-54d5-487a-a1a7-9deb6ca372d9",
   "metadata": {},
   "outputs": [],
   "source": [
    "for city in cities:\n",
    "    print(city, cities[city])"
   ]
  },
  {
   "cell_type": "code",
   "execution_count": 4,
   "id": "202e73f1-95a0-4e82-b1bb-8ebf175d8591",
   "metadata": {},
   "outputs": [
    {
     "name": "stdout",
     "output_type": "stream",
     "text": [
      "[0, 1, 8, 27, 64]\n"
     ]
    }
   ],
   "source": [
    "cubes = [x ** 3 for x in range(5)]\n",
    "print(cubes)"
   ]
  },
  {
   "cell_type": "code",
   "execution_count": 8,
   "id": "a732e8cc-e385-4e23-bcc1-c1ef20f3a673",
   "metadata": {},
   "outputs": [
    {
     "name": "stdout",
     "output_type": "stream",
     "text": [
      "['5', '9', '2']\n"
     ]
    }
   ],
   "source": [
    "mixed = ['one', '5', 'table', 'nine', '9', 'water', '2']\n",
    "nums = [x for x in mixed if x.isdigit()]\n",
    "print(nums)"
   ]
  }
 ],
 "metadata": {
  "kernelspec": {
   "display_name": "Python 3 (ipykernel)",
   "language": "python",
   "name": "python3"
  },
  "language_info": {
   "codemirror_mode": {
    "name": "ipython",
    "version": 3
   },
   "file_extension": ".py",
   "mimetype": "text/x-python",
   "name": "python",
   "nbconvert_exporter": "python",
   "pygments_lexer": "ipython3",
   "version": "3.12.4"
  }
 },
 "nbformat": 4,
 "nbformat_minor": 5
}
