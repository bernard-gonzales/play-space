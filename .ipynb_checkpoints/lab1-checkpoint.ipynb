{
 "cells": [
  {
   "cell_type": "markdown",
   "id": "6222d405-e2c0-4249-9a78-8f1d79b77d03",
   "metadata": {},
   "source": [
    "### Problem 0"
   ]
  },
  {
   "cell_type": "code",
   "execution_count": 3,
   "id": "093df577-c194-4819-9ad7-4cd79bf0b712",
   "metadata": {},
   "outputs": [],
   "source": [
    "import numpy as np\n",
    "import pandas as pd\n",
    "import os\n",
    "import math"
   ]
  },
  {
   "cell_type": "markdown",
   "id": "0d5fa463-2160-4895-8a88-7893145dec8d",
   "metadata": {},
   "source": [
    "### Problem 1\n",
    "Counting the number of unique solutions on this StackOverflow page begs the question \"What is a unique solution?\" To answer this question, I'll consider answers as unique if it uses a different function from the other unique solutions. Solutions with different parameter usages will be considered variants of the same solution. The first unique solution uses the rename() function, which was the most common way to rename the columns."
   ]
  },
  {
   "cell_type": "code",
   "execution_count": null,
   "id": "d7403cb9-83d9-444b-b10f-72b75b45ca41",
   "metadata": {},
   "outputs": [],
   "source": [
    "df = df.rename(columns={'oldName1': 'newName1', 'oldName2': 'newName2'})\n",
    "\n",
    "df.rename(columns={'oldName1': 'newName1', 'oldName2': 'newName2'}, inplace=True)\n",
    "\n",
    "df2 = df.rename({'a': 'X', 'b': 'Y'}, axis=1)\n",
    "\n",
    "df2 = df.rename({'a': 'X', 'b': 'Y'}, axis='columns')\n",
    "\n",
    "df.rename({\"A\": \"new_a\", \"B\": \"new_b\"}, axis='columns', inplace=True)\n",
    "\n",
    "d = {'Jack': 'x098', 'Mahesh': 'y765', 'Xin': 'z432'}\n",
    "df.rename(columns=d)\n",
    "\n",
    "old_names = ['$a', '$b', '$c', '$d', '$e'] \n",
    "new_names = ['a', 'b', 'c', 'd', 'e']\n",
    "df.rename(columns=dict(zip(old_names, new_names)), inplace=True)"
   ]
  },
  {
   "cell_type": "markdown",
   "id": "9b4d3134-2822-4134-92fa-0af3d73cee4e",
   "metadata": {},
   "source": [
    "Many solutions using rename() varied on specifying the dict explicitly as the columns variable or not, whether or not inplace was set to `True`, whether axis was `1` or `'columns'` or not set at all, etc. A recurring thing I saw was the use of `lambda` functions:"
   ]
  },
  {
   "cell_type": "code",
   "execution_count": null,
   "id": "cd774e03-cf9a-4541-821e-214b14463f71",
   "metadata": {},
   "outputs": [],
   "source": [
    "df.rename(columns=lambda x: x[1:], inplace=True)\n",
    "\n",
    "df.rename(lambda x: x[1:], axis=1)\n",
    "\n",
    "df = df.rename(columns=lambda x: x.replace('$', ''))\n",
    "\n",
    "df.rename(columns=lambda x, y=iter(new): next(y))"
   ]
  },
  {
   "cell_type": "markdown",
   "id": "3e4f37ab-7f59-4c55-92a4-62631305857a",
   "metadata": {},
   "source": [
    "The next solution directly modifies the columns variable of the dataframe:"
   ]
  },
  {
   "cell_type": "code",
   "execution_count": null,
   "id": "6660b5d4-95bb-480b-9b02-486fd5c9bd48",
   "metadata": {},
   "outputs": [],
   "source": [
    "df.columns = ['V', 'W', 'X', 'Y', 'Z']\n",
    "\n",
    "df.columns = df.columns.str.replace('$', '')"
   ]
  },
  {
   "cell_type": "markdown",
   "id": "38a198a3-1c57-4d24-8589-02cacf9740ee",
   "metadata": {},
   "source": [
    "The other three solutions use the `set_axis()` function, the `set_index()` function, and the `concat()` function:"
   ]
  },
  {
   "cell_type": "code",
   "execution_count": null,
   "id": "a273325f-996e-4a3f-8c7d-979273f4655c",
   "metadata": {},
   "outputs": [],
   "source": [
    "df2 = df.set_axis(['V', 'W', 'X', 'Y', 'Z'], axis=1)\n",
    "\n",
    "df.set_axis(['a', 'b', 'c', 'd', 'e'], axis=1, inplace=False)\n",
    "\n",
    "df.set_axis(['a', 'b', 'c', 'd', 'e'], axis='columns', inplace=False)"
   ]
  },
  {
   "cell_type": "code",
   "execution_count": null,
   "id": "7b5780ab-5d48-4604-9889-4fc2654ee3cc",
   "metadata": {},
   "outputs": [],
   "source": [
    "df.T.set_index(np.asarray(new)).T\n",
    "\n",
    "df.T.set_index(np.asarray(new)).T.astype(dict(zip(new, df.dtypes)))"
   ]
  },
  {
   "cell_type": "code",
   "execution_count": null,
   "id": "a512341f-0b36-4eb4-9999-d39d511ab57d",
   "metadata": {},
   "outputs": [],
   "source": [
    "new = ['x098', 'y765', 'z432']\n",
    "pd.concat([c for _, c in df.items()], axis=1, keys=new)"
   ]
  },
  {
   "cell_type": "markdown",
   "id": "621d8597-9e9b-4efd-b2c2-c16991c1eac7",
   "metadata": {},
   "source": [
    "I would say that there are five unique solutions. However, depending on whether variants are counted as unique solutions, you could have up to 30 unique solutions. The main problem with searching for the answer on Google and StackOverflow is that they will show many different solutions for the same problem. This can be useful if one solution doesn't work or isn't viable on one's environment, but often, looking for the solution requires a lot of reading and understanding the issue at a fundamental level."
   ]
  },
  {
   "cell_type": "markdown",
   "id": "4d06085b-bd66-4a52-97fc-7e352687bdb0",
   "metadata": {},
   "source": [
    "### Problem 2"
   ]
  },
  {
   "cell_type": "code",
   "execution_count": 6,
   "id": "ee7b1f40-bce7-4af5-85ac-a9c799d4859a",
   "metadata": {},
   "outputs": [
    {
     "name": "stdout",
     "output_type": "stream",
     "text": [
      "Help on ufunc:\n",
      "\n",
      "log = <ufunc 'log'>\n",
      "    log(x, /, out=None, *, where=True, casting='same_kind', order='K', dtype=None, subok=True[, signature])\n",
      "\n",
      "    Natural logarithm, element-wise.\n",
      "\n",
      "    The natural logarithm `log` is the inverse of the exponential function,\n",
      "    so that `log(exp(x)) = x`. The natural logarithm is logarithm in base\n",
      "    `e`.\n",
      "\n",
      "    Parameters\n",
      "    ----------\n",
      "    x : array_like\n",
      "        Input value.\n",
      "    out : ndarray, None, or tuple of ndarray and None, optional\n",
      "        A location into which the result is stored. If provided, it must have\n",
      "        a shape that the inputs broadcast to. If not provided or None,\n",
      "        a freshly-allocated array is returned. A tuple (possible only as a\n",
      "        keyword argument) must have length equal to the number of outputs.\n",
      "    where : array_like, optional\n",
      "        This condition is broadcast over the input. At locations where the\n",
      "        condition is True, the `out` array will be set to the ufunc result.\n",
      "        Elsewhere, the `out` array will retain its original value.\n",
      "        Note that if an uninitialized `out` array is created via the default\n",
      "        ``out=None``, locations within it where the condition is False will\n",
      "        remain uninitialized.\n",
      "    **kwargs\n",
      "        For other keyword-only arguments, see the\n",
      "        :ref:`ufunc docs <ufuncs.kwargs>`.\n",
      "\n",
      "    Returns\n",
      "    -------\n",
      "    y : ndarray\n",
      "        The natural logarithm of `x`, element-wise.\n",
      "        This is a scalar if `x` is a scalar.\n",
      "\n",
      "    See Also\n",
      "    --------\n",
      "    log10, log2, log1p, emath.log\n",
      "\n",
      "    Notes\n",
      "    -----\n",
      "    Logarithm is a multivalued function: for each `x` there is an infinite\n",
      "    number of `z` such that `exp(z) = x`. The convention is to return the\n",
      "    `z` whose imaginary part lies in `(-pi, pi]`.\n",
      "\n",
      "    For real-valued input data types, `log` always returns real output. For\n",
      "    each value that cannot be expressed as a real number or infinity, it\n",
      "    yields ``nan`` and sets the `invalid` floating point error flag.\n",
      "\n",
      "    For complex-valued input, `log` is a complex analytical function that\n",
      "    has a branch cut `[-inf, 0]` and is continuous from above on it. `log`\n",
      "    handles the floating-point negative zero as an infinitesimal negative\n",
      "    number, conforming to the C99 standard.\n",
      "\n",
      "    In the cases where the input has a negative real part and a very small\n",
      "    negative complex part (approaching 0), the result is so close to `-pi`\n",
      "    that it evaluates to exactly `-pi`.\n",
      "\n",
      "    References\n",
      "    ----------\n",
      "    .. [1] M. Abramowitz and I.A. Stegun, \"Handbook of Mathematical Functions\",\n",
      "           10th printing, 1964, pp. 67.\n",
      "           https://personal.math.ubc.ca/~cbm/aands/page_67.htm\n",
      "    .. [2] Wikipedia, \"Logarithm\". https://en.wikipedia.org/wiki/Logarithm\n",
      "\n",
      "    Examples\n",
      "    --------\n",
      "    >>> np.log([1, np.e, np.e**2, 0])\n",
      "    array([  0.,   1.,   2., -inf])\n",
      "\n"
     ]
    }
   ],
   "source": [
    "help(np.log)"
   ]
  },
  {
   "cell_type": "code",
   "execution_count": 7,
   "id": "2a93dc56-d9af-4015-a58d-761c1e12674a",
   "metadata": {},
   "outputs": [
    {
     "name": "stdout",
     "output_type": "stream",
     "text": [
      "Help on built-in function log in module math:\n",
      "\n",
      "log(...)\n",
      "    log(x, [base=math.e])\n",
      "    Return the logarithm of x to the given base.\n",
      "\n",
      "    If the base is not specified, returns the natural logarithm (base e) of x.\n",
      "\n"
     ]
    }
   ],
   "source": [
    "help(math.log)"
   ]
  },
  {
   "cell_type": "markdown",
   "id": "f7689f09-e331-48d5-836f-29faae21e972",
   "metadata": {},
   "source": [
    "It seems that only `math`'s `log()` function can evaluate $log_3(7)$, because it can take a log base as a possible parameter, and defaulting to base $e$ if no base is passed in. `numpy`'s `log()` function, on the other hand, does not take a log base parameter."
   ]
  },
  {
   "cell_type": "code",
   "execution_count": 8,
   "id": "80404aa5-7365-471b-b63e-1c1656287184",
   "metadata": {},
   "outputs": [
    {
     "data": {
      "text/plain": [
       "1.7712437491614221"
      ]
     },
     "execution_count": 8,
     "metadata": {},
     "output_type": "execute_result"
    }
   ],
   "source": [
    "math.log(7, 3)"
   ]
  },
  {
   "cell_type": "markdown",
   "id": "a71b0863-bbd8-4134-9c4d-5b104327f7c0",
   "metadata": {},
   "source": [
    "### Problem 3\n",
    "<img src=\"dataframe.png\" width=600>"
   ]
  },
  {
   "cell_type": "markdown",
   "id": "70157d7e-03d6-4149-b36d-adbc897be127",
   "metadata": {},
   "source": [
    "### Problem 4"
   ]
  },
  {
   "cell_type": "markdown",
   "id": "3e6d811d-8f23-4a91-9178-27572c05175a",
   "metadata": {},
   "source": [
    "### Problem 5\n",
    "https://stackoverflow.com/questions/47152691/how-can-i-pivot-a-dataframe\n",
    "The questioner"
   ]
  }
 ],
 "metadata": {
  "kernelspec": {
   "display_name": "Python 3 (ipykernel)",
   "language": "python",
   "name": "python3"
  },
  "language_info": {
   "codemirror_mode": {
    "name": "ipython",
    "version": 3
   },
   "file_extension": ".py",
   "mimetype": "text/x-python",
   "name": "python",
   "nbconvert_exporter": "python",
   "pygments_lexer": "ipython3",
   "version": "3.12.4"
  }
 },
 "nbformat": 4,
 "nbformat_minor": 5
}
