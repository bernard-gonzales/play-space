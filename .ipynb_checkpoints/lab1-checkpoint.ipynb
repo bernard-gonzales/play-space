{
 "cells": [
  {
   "cell_type": "markdown",
   "id": "6222d405-e2c0-4249-9a78-8f1d79b77d03",
   "metadata": {},
   "source": [
    "### Problem 0"
   ]
  },
  {
   "cell_type": "code",
   "execution_count": 1,
   "id": "093df577-c194-4819-9ad7-4cd79bf0b712",
   "metadata": {},
   "outputs": [],
   "source": [
    "import numpy as np\n",
    "import pandas as pd\n",
    "import os\n",
    "import math"
   ]
  },
  {
   "cell_type": "markdown",
   "id": "0d5fa463-2160-4895-8a88-7893145dec8d",
   "metadata": {},
   "source": [
    "### Problem 1\n",
    "Counting the number of unique solutions on this StackOverflow page begs the question \"What is a unique solution?\" To answer this question, I'll consider answers as unique if it uses a different function from the other unique solutions. Solutions with different parameter usages will be considered variants of the same solution. The first unique solution uses the rename() function, which was the most common way to rename the columns."
   ]
  },
  {
   "cell_type": "code",
   "execution_count": null,
   "id": "d7403cb9-83d9-444b-b10f-72b75b45ca41",
   "metadata": {},
   "outputs": [],
   "source": [
    "df = df.rename(columns={'oldName1': 'newName1', 'oldName2': 'newName2'})\n",
    "\n",
    "df.rename(columns={'oldName1': 'newName1', 'oldName2': 'newName2'}, inplace=True)\n",
    "\n",
    "df2 = df.rename({'a': 'X', 'b': 'Y'}, axis=1)\n",
    "\n",
    "df2 = df.rename({'a': 'X', 'b': 'Y'}, axis='columns')\n",
    "\n",
    "df.rename({\"A\": \"new_a\", \"B\": \"new_b\"}, axis='columns', inplace=True)\n",
    "\n",
    "d = {'Jack': 'x098', 'Mahesh': 'y765', 'Xin': 'z432'}\n",
    "df.rename(columns=d)\n",
    "\n",
    "old_names = ['$a', '$b', '$c', '$d', '$e'] \n",
    "new_names = ['a', 'b', 'c', 'd', 'e']\n",
    "df.rename(columns=dict(zip(old_names, new_names)), inplace=True)"
   ]
  },
  {
   "cell_type": "markdown",
   "id": "9b4d3134-2822-4134-92fa-0af3d73cee4e",
   "metadata": {},
   "source": [
    "Many solutions using rename() varied on specifying the dict explicitly as the columns variable or not, whether or not inplace was set to `True`, whether axis was `1` or `'columns'` or not set at all, etc. A recurring thing I saw was the use of `lambda` functions:"
   ]
  },
  {
   "cell_type": "code",
   "execution_count": null,
   "id": "cd774e03-cf9a-4541-821e-214b14463f71",
   "metadata": {},
   "outputs": [],
   "source": [
    "df.rename(columns=lambda x: x[1:], inplace=True)\n",
    "\n",
    "df.rename(lambda x: x[1:], axis=1)\n",
    "\n",
    "df = df.rename(columns=lambda x: x.replace('$', ''))\n",
    "\n",
    "df.rename(columns=lambda x, y=iter(new): next(y))"
   ]
  },
  {
   "cell_type": "markdown",
   "id": "3e4f37ab-7f59-4c55-92a4-62631305857a",
   "metadata": {},
   "source": [
    "The next solution directly modifies the columns variable of the dataframe:"
   ]
  },
  {
   "cell_type": "code",
   "execution_count": null,
   "id": "6660b5d4-95bb-480b-9b02-486fd5c9bd48",
   "metadata": {},
   "outputs": [],
   "source": [
    "df.columns = ['V', 'W', 'X', 'Y', 'Z']\n",
    "\n",
    "df.columns = df.columns.str.replace('$', '')"
   ]
  },
  {
   "cell_type": "markdown",
   "id": "38a198a3-1c57-4d24-8589-02cacf9740ee",
   "metadata": {},
   "source": [
    "The other three solutions use the `set_axis()` function, the `set_index()` function, and the `concat()` function:"
   ]
  },
  {
   "cell_type": "code",
   "execution_count": null,
   "id": "a273325f-996e-4a3f-8c7d-979273f4655c",
   "metadata": {},
   "outputs": [],
   "source": [
    "df2 = df.set_axis(['V', 'W', 'X', 'Y', 'Z'], axis=1)\n",
    "\n",
    "df.set_axis(['a', 'b', 'c', 'd', 'e'], axis=1, inplace=False)\n",
    "\n",
    "df.set_axis(['a', 'b', 'c', 'd', 'e'], axis='columns', inplace=False)"
   ]
  },
  {
   "cell_type": "code",
   "execution_count": null,
   "id": "7b5780ab-5d48-4604-9889-4fc2654ee3cc",
   "metadata": {},
   "outputs": [],
   "source": [
    "df.T.set_index(np.asarray(new)).T\n",
    "\n",
    "df.T.set_index(np.asarray(new)).T.astype(dict(zip(new, df.dtypes)))"
   ]
  },
  {
   "cell_type": "code",
   "execution_count": null,
   "id": "a512341f-0b36-4eb4-9999-d39d511ab57d",
   "metadata": {},
   "outputs": [],
   "source": [
    "new = ['x098', 'y765', 'z432']\n",
    "pd.concat([c for _, c in df.items()], axis=1, keys=new)"
   ]
  },
  {
   "cell_type": "markdown",
   "id": "621d8597-9e9b-4efd-b2c2-c16991c1eac7",
   "metadata": {},
   "source": [
    "I would say that there are five unique solutions. However, depending on whether variants are counted as unique solutions, you could have up to 30 unique solutions. The main problem with searching for the answer on Google and StackOverflow is that they will show many different solutions for the same problem. This can be useful if one solution doesn't work or isn't viable on one's environment, but often, looking for the solution requires a lot of reading and understanding the issue at a fundamental level."
   ]
  },
  {
   "cell_type": "markdown",
   "id": "4d06085b-bd66-4a52-97fc-7e352687bdb0",
   "metadata": {},
   "source": [
    "### Problem 2"
   ]
  },
  {
   "cell_type": "code",
   "execution_count": 6,
   "id": "ee7b1f40-bce7-4af5-85ac-a9c799d4859a",
   "metadata": {},
   "outputs": [
    {
     "name": "stdout",
     "output_type": "stream",
     "text": [
      "Help on ufunc:\n",
      "\n",
      "log = <ufunc 'log'>\n",
      "    log(x, /, out=None, *, where=True, casting='same_kind', order='K', dtype=None, subok=True[, signature])\n",
      "\n",
      "    Natural logarithm, element-wise.\n",
      "\n",
      "    The natural logarithm `log` is the inverse of the exponential function,\n",
      "    so that `log(exp(x)) = x`. The natural logarithm is logarithm in base\n",
      "    `e`.\n",
      "\n",
      "    Parameters\n",
      "    ----------\n",
      "    x : array_like\n",
      "        Input value.\n",
      "    out : ndarray, None, or tuple of ndarray and None, optional\n",
      "        A location into which the result is stored. If provided, it must have\n",
      "        a shape that the inputs broadcast to. If not provided or None,\n",
      "        a freshly-allocated array is returned. A tuple (possible only as a\n",
      "        keyword argument) must have length equal to the number of outputs.\n",
      "    where : array_like, optional\n",
      "        This condition is broadcast over the input. At locations where the\n",
      "        condition is True, the `out` array will be set to the ufunc result.\n",
      "        Elsewhere, the `out` array will retain its original value.\n",
      "        Note that if an uninitialized `out` array is created via the default\n",
      "        ``out=None``, locations within it where the condition is False will\n",
      "        remain uninitialized.\n",
      "    **kwargs\n",
      "        For other keyword-only arguments, see the\n",
      "        :ref:`ufunc docs <ufuncs.kwargs>`.\n",
      "\n",
      "    Returns\n",
      "    -------\n",
      "    y : ndarray\n",
      "        The natural logarithm of `x`, element-wise.\n",
      "        This is a scalar if `x` is a scalar.\n",
      "\n",
      "    See Also\n",
      "    --------\n",
      "    log10, log2, log1p, emath.log\n",
      "\n",
      "    Notes\n",
      "    -----\n",
      "    Logarithm is a multivalued function: for each `x` there is an infinite\n",
      "    number of `z` such that `exp(z) = x`. The convention is to return the\n",
      "    `z` whose imaginary part lies in `(-pi, pi]`.\n",
      "\n",
      "    For real-valued input data types, `log` always returns real output. For\n",
      "    each value that cannot be expressed as a real number or infinity, it\n",
      "    yields ``nan`` and sets the `invalid` floating point error flag.\n",
      "\n",
      "    For complex-valued input, `log` is a complex analytical function that\n",
      "    has a branch cut `[-inf, 0]` and is continuous from above on it. `log`\n",
      "    handles the floating-point negative zero as an infinitesimal negative\n",
      "    number, conforming to the C99 standard.\n",
      "\n",
      "    In the cases where the input has a negative real part and a very small\n",
      "    negative complex part (approaching 0), the result is so close to `-pi`\n",
      "    that it evaluates to exactly `-pi`.\n",
      "\n",
      "    References\n",
      "    ----------\n",
      "    .. [1] M. Abramowitz and I.A. Stegun, \"Handbook of Mathematical Functions\",\n",
      "           10th printing, 1964, pp. 67.\n",
      "           https://personal.math.ubc.ca/~cbm/aands/page_67.htm\n",
      "    .. [2] Wikipedia, \"Logarithm\". https://en.wikipedia.org/wiki/Logarithm\n",
      "\n",
      "    Examples\n",
      "    --------\n",
      "    >>> np.log([1, np.e, np.e**2, 0])\n",
      "    array([  0.,   1.,   2., -inf])\n",
      "\n"
     ]
    }
   ],
   "source": [
    "help(np.log)"
   ]
  },
  {
   "cell_type": "code",
   "execution_count": 7,
   "id": "2a93dc56-d9af-4015-a58d-761c1e12674a",
   "metadata": {},
   "outputs": [
    {
     "name": "stdout",
     "output_type": "stream",
     "text": [
      "Help on built-in function log in module math:\n",
      "\n",
      "log(...)\n",
      "    log(x, [base=math.e])\n",
      "    Return the logarithm of x to the given base.\n",
      "\n",
      "    If the base is not specified, returns the natural logarithm (base e) of x.\n",
      "\n"
     ]
    }
   ],
   "source": [
    "help(math.log)"
   ]
  },
  {
   "cell_type": "markdown",
   "id": "f7689f09-e331-48d5-836f-29faae21e972",
   "metadata": {},
   "source": [
    "It seems that only `math`'s `log()` function can evaluate $log_3(7)$, because it can take a log base as a possible parameter, and defaulting to base $e$ if no base is passed in. `numpy`'s `log()` function, on the other hand, does not take a log base parameter."
   ]
  },
  {
   "cell_type": "code",
   "execution_count": 8,
   "id": "80404aa5-7365-471b-b63e-1c1656287184",
   "metadata": {},
   "outputs": [
    {
     "data": {
      "text/plain": [
       "1.7712437491614221"
      ]
     },
     "execution_count": 8,
     "metadata": {},
     "output_type": "execute_result"
    }
   ],
   "source": [
    "math.log(7, 3)"
   ]
  },
  {
   "cell_type": "markdown",
   "id": "a71b0863-bbd8-4134-9c4d-5b104327f7c0",
   "metadata": {},
   "source": [
    "### Problem 3\n",
    "<img src=\"dataframe.png\" width=600>"
   ]
  },
  {
   "cell_type": "markdown",
   "id": "70157d7e-03d6-4149-b36d-adbc897be127",
   "metadata": {},
   "source": [
    "### Problem 4\n",
    "https://stackoverflow.com/questions/20109487/how-do-i-use-sprite-sheets-in-pygame\n",
    "\n",
    "The first answerer wasn't too toxic, but they started their response with \"It really isn't very hard to do.\" The questioner admitted that they are new to programming in Python, and granted, the above quote was really the only condescending part of the post. They were helpful and explained as much as they could, given the limitation that the questioner did not provide any code from the game that they're developing."
   ]
  },
  {
   "cell_type": "markdown",
   "id": "3e6d811d-8f23-4a91-9178-27572c05175a",
   "metadata": {},
   "source": [
    "### Problem 5\n",
    "https://stackoverflow.com/questions/47152691/how-can-i-pivot-a-dataframe\n",
    "\n",
    "The questioner asked way too many questions. The post starts off with asking three questions about pivot and format, then goes on a lengthy explanation about their research and setup. As if that wasn't enough, the questioner asks 11 more questions related to his code. I think that asking several questions in one post is fine, but no response is going to be short enough to comprehend and comprehensive enough to answer all the questions thoroughly. The post was closed, thankfully, with the suggestion that the author break up the post into smaller posts that are easier to address and understand."
   ]
  },
  {
   "cell_type": "markdown",
   "id": "a3216dc1-37f0-4ca4-a49e-ecc10fd6ad63",
   "metadata": {},
   "source": [
    "### Problem 6\n",
    "#### Part a\n",
    "https://stackoverflow.com/questions/715417/converting-from-a-string-to-boolean-in-python?noredirect=1&lq=1\n",
    "\n",
    "I had difficulty finding the Stack Overflow post that solves the exact problem, so I used this post, which covers the boolean values of strings. In Python, only empty strings evaluate to `False`, while all other strings evaluate to `True`. The post said to compare the string to whatever would represent `True`, so I'm going to fix the code by explicitly comparing the `name` variable to the names of the original six Avengers."
   ]
  },
  {
   "cell_type": "code",
   "execution_count": 1,
   "id": "d3c5d9b5-52a8-4b29-aa75-9fb17148d94a",
   "metadata": {},
   "outputs": [],
   "source": [
    "def is_avenger(name):\n",
    "    if name==\"Hulk\" or name==\"Captain America\" or name==\"Iron Man\" or name==\"Black Widow\" or name==\"Hawkeye\" or name==\"Thor\":\n",
    "        print(name  + \"'s an original Avenger!\")\n",
    "    else:\n",
    "        print(name + \" is NOT an original Avenger.\")"
   ]
  },
  {
   "cell_type": "code",
   "execution_count": 2,
   "id": "1ad64adb-8c5a-410e-a2de-a6607b9b24cf",
   "metadata": {},
   "outputs": [
    {
     "name": "stdout",
     "output_type": "stream",
     "text": [
      "Black Widow's an original Avenger!\n"
     ]
    }
   ],
   "source": [
    "is_avenger(\"Black Widow\")"
   ]
  },
  {
   "cell_type": "code",
   "execution_count": 3,
   "id": "54f889e3-0c4a-4e30-b9a2-ab3bb8d87c0c",
   "metadata": {},
   "outputs": [
    {
     "name": "stdout",
     "output_type": "stream",
     "text": [
      "Iron Man's an original Avenger!\n"
     ]
    }
   ],
   "source": [
    "is_avenger(\"Iron Man\")"
   ]
  },
  {
   "cell_type": "code",
   "execution_count": 4,
   "id": "ef10906a-2582-4ea6-8aca-64fa2d6a10f2",
   "metadata": {},
   "outputs": [
    {
     "name": "stdout",
     "output_type": "stream",
     "text": [
      "Hulk's an original Avenger!\n"
     ]
    }
   ],
   "source": [
    "is_avenger(\"Hulk\")"
   ]
  },
  {
   "cell_type": "code",
   "execution_count": 5,
   "id": "11b84e40-2343-42cd-9916-9b0b47d903a4",
   "metadata": {},
   "outputs": [
    {
     "name": "stdout",
     "output_type": "stream",
     "text": [
      "Spiderman is NOT an original Avenger.\n"
     ]
    }
   ],
   "source": [
    "is_avenger(\"Spiderman\")"
   ]
  },
  {
   "cell_type": "code",
   "execution_count": 6,
   "id": "fd27339c-c2f5-4a94-910d-c6581fe1a870",
   "metadata": {},
   "outputs": [
    {
     "name": "stdout",
     "output_type": "stream",
     "text": [
      "Beyonce is NOT an original Avenger.\n"
     ]
    }
   ],
   "source": [
    "is_avenger(\"Beyonce\")"
   ]
  },
  {
   "cell_type": "markdown",
   "id": "5f4a0f4b-2905-4318-a56b-d55e3295e18d",
   "metadata": {},
   "source": [
    "#### Part b\n",
    "Why does string comparison in Python always return `True`?"
   ]
  },
  {
   "cell_type": "markdown",
   "id": "121c7425-0071-4e6c-b63d-8a64eb6ff851",
   "metadata": {},
   "source": [
    "#### Part c\n",
    "I have this code, which should return `True` if `name` is equivalent to one of the six original Avengers and `False` if otherwise."
   ]
  },
  {
   "cell_type": "code",
   "execution_count": 7,
   "id": "511b683d-4769-4720-9b62-18d2298dea17",
   "metadata": {},
   "outputs": [],
   "source": [
    "def is_avenger(name):\n",
    "    if name==\"Hulk\" or \"Captain America\" or \"Iron Man\" or \"Black Widow\" or \"Hawkeye\" or \"Thor\":\n",
    "        print(name  + \"'s an original Avenger!\")\n",
    "    else:\n",
    "        print(name + \" is NOT an original Avenger.\")"
   ]
  },
  {
   "cell_type": "markdown",
   "id": "cb4193c8-a8fa-45a1-81af-c1c6d165e0d1",
   "metadata": {},
   "source": [
    "However, the following returns `True`, even though it should return `False`."
   ]
  },
  {
   "cell_type": "code",
   "execution_count": 8,
   "id": "863f9f0c-f6c7-42b1-a645-4d3d7bcfa460",
   "metadata": {},
   "outputs": [
    {
     "name": "stdout",
     "output_type": "stream",
     "text": [
      "Spiderman's an original Avenger!\n"
     ]
    }
   ],
   "source": [
    "is_avenger(\"Spiderman\")"
   ]
  },
  {
   "cell_type": "markdown",
   "id": "4f05a33b-06b4-4365-900d-2722be26d751",
   "metadata": {},
   "source": [
    "### Problem 7\n",
    "#### Part a"
   ]
  },
  {
   "cell_type": "code",
   "execution_count": 4,
   "id": "c47b8aec-8efb-4a1d-a83d-67f76c078f86",
   "metadata": {},
   "outputs": [
    {
     "name": "stdout",
     "output_type": "stream",
     "text": [
      "work_year                    2022    2023\n",
      "job_title                                \n",
      "Data Analyst               108658  110988\n",
      "Data Engineer              139803  149945\n",
      "Data Scientist             138529  163714\n",
      "Machine Learning Engineer  151775  191026\n"
     ]
    }
   ],
   "source": [
    "df = pd.read_csv('jobs_in_data.csv')\n",
    "\n",
    "# Filter the DataFrame for the years 2022 and 2023 and the specified job titles\n",
    "filtered_df = df[(df['work_year'].isin([2022, 2023])) & \n",
    "                 (df['job_title'].isin([\"Data Analyst\", \"Data Engineer\", \"Data Scientist\", \"Machine Learning Engineer\"]))]\n",
    "\n",
    "# Group by job title and work year, then calculate the average salary in USD\n",
    "average_salaries = filtered_df.groupby(['job_title', 'work_year'])['salary_in_usd'].mean().unstack()\n",
    "\n",
    "# Round the average salaries to the nearest dollar and cast to int\n",
    "average_salaries = average_salaries.round(0).astype(int)\n",
    "\n",
    "# Display the result\n",
    "print(average_salaries)"
   ]
  },
  {
   "cell_type": "markdown",
   "id": "848494a2-471b-48a9-ad1e-44db40bdc6dc",
   "metadata": {},
   "source": [
    "<img src=\"chatgpt1.png\" width=600>"
   ]
  },
  {
   "cell_type": "markdown",
   "id": "de93a365-0b93-46da-a774-b8b122d1f1d6",
   "metadata": {},
   "source": [
    "<img src=\"chatgpt2.png\" width=600>"
   ]
  },
  {
   "cell_type": "markdown",
   "id": "5d586a32-6847-4bae-bca2-b3ca75e56e4b",
   "metadata": {},
   "source": [
    "<img src=\"chatgpt3.png\" width=600>"
   ]
  },
  {
   "cell_type": "markdown",
   "id": "dbe40295-5711-48ef-ba82-95da58d33192",
   "metadata": {},
   "source": [
    "<img src=\"chatgpt4.png\" width=600>"
   ]
  },
  {
   "cell_type": "markdown",
   "id": "6b060ba3-8b40-4726-9bb2-d63ad04a4bce",
   "metadata": {},
   "source": [
    "<img src=\"chatgpt5.png\" width=600>"
   ]
  },
  {
   "cell_type": "markdown",
   "id": "ceb2f144-f5cc-4ee6-9be0-481e99794774",
   "metadata": {},
   "source": [
    "#### Part b"
   ]
  },
  {
   "cell_type": "markdown",
   "id": "39d479c3-59ee-48ac-bd4a-9af52bc01abd",
   "metadata": {},
   "source": [
    "ChatGPT is very useful if you know what you want to get, and if you know how to explain it, even you don't know how to do it. It is also very effective if the environment can be replicated very easily on ChatGPT. Generally, I tend to use ChatGPT if I can't find the answers on Google or StackOverflow, just to see if there are any answers I may have missed or overlooked. However, if the environment is very hard to replicate or set up (like if the code has a lot of dependencies), ChatGPT can be very inefficient, since you would have to explain a lot of the context or copy-and-paste many different files into ChatGPT."
   ]
  }
 ],
 "metadata": {
  "kernelspec": {
   "display_name": "Python 3 (ipykernel)",
   "language": "python",
   "name": "python3"
  },
  "language_info": {
   "codemirror_mode": {
    "name": "ipython",
    "version": 3
   },
   "file_extension": ".py",
   "mimetype": "text/x-python",
   "name": "python",
   "nbconvert_exporter": "python",
   "pygments_lexer": "ipython3",
   "version": "3.12.4"
  }
 },
 "nbformat": 4,
 "nbformat_minor": 5
}
