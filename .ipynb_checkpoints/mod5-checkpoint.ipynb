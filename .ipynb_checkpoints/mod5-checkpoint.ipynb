{
 "cells": [
  {
   "cell_type": "code",
   "execution_count": 2,
   "id": "402282e0-0f93-4364-bb53-eeb649399172",
   "metadata": {},
   "outputs": [
    {
     "name": "stdout",
     "output_type": "stream",
     "text": [
      "0.06412053108215332\n"
     ]
    }
   ],
   "source": [
    "import time\n",
    "start = time.time()\n",
    "nums = []\n",
    "for i in range(1, 100001):\n",
    "    if i % 2 == 1:\n",
    "        nums.append(-1 * i)\n",
    "    else:\n",
    "        nums.append(i)\n",
    "print(time.time() - start)"
   ]
  },
  {
   "cell_type": "code",
   "execution_count": 3,
   "id": "c8f25db4-bf27-496c-a059-cfe9f5cfd39f",
   "metadata": {},
   "outputs": [
    {
     "name": "stdout",
     "output_type": "stream",
     "text": [
      "0.042884111404418945\n"
     ]
    }
   ],
   "source": [
    "start = time.time()\n",
    "nums = [-1 * i if i % 2 == 1 else i for i in range(1, 100001)]\n",
    "print(time.time() - start)"
   ]
  },
  {
   "cell_type": "code",
   "execution_count": 6,
   "id": "cc882c92-2998-4122-8ab5-d181b5b94242",
   "metadata": {},
   "outputs": [
    {
     "name": "stdout",
     "output_type": "stream",
     "text": [
      "[4, 5, 4, 1, 2, 5, 1, 4, 2, 3]\n"
     ]
    }
   ],
   "source": [
    "import numpy as np\n",
    "nums = np.random.randint(1, 7, size=10)\n",
    "print('[' + ', '.join(nums.astype(str)) + ']')"
   ]
  },
  {
   "cell_type": "code",
   "execution_count": 9,
   "id": "a8f2382e-9e12-4651-b316-0a386e3d295a",
   "metadata": {},
   "outputs": [
    {
     "name": "stdout",
     "output_type": "stream",
     "text": [
      "<class 'int'>\n",
      "<class 'numpy.ndarray'>\n"
     ]
    }
   ],
   "source": [
    "print(type(np.random.randint(10)))\n",
    "print(type(np.random.randint(1, 21, 5)))"
   ]
  },
  {
   "cell_type": "code",
   "execution_count": 11,
   "id": "332ad5e8-193a-4568-aeef-36bbe5a7a9d6",
   "metadata": {},
   "outputs": [
    {
     "name": "stderr",
     "output_type": "stream",
     "text": [
      "Matplotlib is building the font cache; this may take a moment.\n"
     ]
    },
    {
     "data": {
      "text/plain": [
       "(array([2., 0., 2., 0., 0., 1., 0., 3., 0., 2.]),\n",
       " array([1. , 1.4, 1.8, 2.2, 2.6, 3. , 3.4, 3.8, 4.2, 4.6, 5. ]),\n",
       " <BarContainer object of 10 artists>)"
      ]
     },
     "execution_count": 11,
     "metadata": {},
     "output_type": "execute_result"
    },
    {
     "data": {
      "image/png": "[encoded data removed]",
      "text/plain": [
       "<Figure size 640x480 with 1 Axes>"
      ]
     },
     "metadata": {},
     "output_type": "display_data"
    }
   ],
   "source": [
    "from matplotlib.pyplot import hist\n",
    "hist(nums)"
   ]
  },
  {
   "cell_type": "code",
   "execution_count": 15,
   "id": "0ae12e34-0606-4d4a-9b80-cebc1c3b585b",
   "metadata": {},
   "outputs": [
    {
     "data": {
      "text/plain": [
       "array([[ 0.972666  ,  0.97438964,  0.10514389],\n",
       "       [ 0.30412723, -0.56072011, -0.04908185]])"
      ]
     },
     "execution_count": 15,
     "metadata": {},
     "output_type": "execute_result"
    }
   ],
   "source": [
    "arr = np.random.randn(2, 3)\n",
    "arr"
   ]
  },
  {
   "cell_type": "code",
   "execution_count": 16,
   "id": "f7dd5e4f-1c49-476a-80ba-f7de9535afab",
   "metadata": {},
   "outputs": [
    {
     "data": {
      "text/plain": [
       "array([[ 1.94533199,  1.94877927,  0.21028777],\n",
       "       [ 0.60825446, -1.12144022, -0.09816369]])"
      ]
     },
     "execution_count": 16,
     "metadata": {},
     "output_type": "execute_result"
    }
   ],
   "source": [
    "arr *= 2\n",
    "arr"
   ]
  },
  {
   "cell_type": "code",
   "execution_count": 17,
   "id": "e5c29877-2a65-436f-835f-0bc2ec4ac0b9",
   "metadata": {},
   "outputs": [
    {
     "data": {
      "text/plain": [
       "array([[ 3.89066399,  3.89755855,  0.42057554],\n",
       "       [ 1.21650892, -2.24288043, -0.19632738]])"
      ]
     },
     "execution_count": 17,
     "metadata": {},
     "output_type": "execute_result"
    }
   ],
   "source": [
    "arr += arr\n",
    "arr"
   ]
  },
  {
   "cell_type": "code",
   "execution_count": 18,
   "id": "471faabd-7ab0-44dd-9119-04e2fe31ca54",
   "metadata": {},
   "outputs": [
    {
     "data": {
      "text/plain": [
       "array([[ 0.25702554,  0.25657087,  2.37769414],\n",
       "       [ 0.82202439, -0.44585524, -5.09353293]])"
      ]
     },
     "execution_count": 18,
     "metadata": {},
     "output_type": "execute_result"
    }
   ],
   "source": [
    "arr = 1 / arr\n",
    "arr"
   ]
  },
  {
   "cell_type": "code",
   "execution_count": 21,
   "id": "bd9b99ec-4e34-49e4-a952-bd1aa9d77eb9",
   "metadata": {},
   "outputs": [
    {
     "name": "stdout",
     "output_type": "stream",
     "text": [
      "[[0. 0. 0. 0.]\n",
      " [0. 0. 0. 0.]]\n",
      "[[1. 1. 1. 1.]\n",
      " [1. 1. 1. 1.]]\n"
     ]
    }
   ],
   "source": [
    "zeroes = np.zeros((2, 4))\n",
    "ones = np.ones((2, 4))\n",
    "print(zeroes)\n",
    "print(ones)"
   ]
  },
  {
   "cell_type": "code",
   "execution_count": 22,
   "id": "d47d0cb4-5948-47b7-9bf6-45ada899cc48",
   "metadata": {},
   "outputs": [
    {
     "data": {
      "text/plain": [
       "array([[1., 0., 0., 0.],\n",
       "       [0., 1., 0., 0.],\n",
       "       [0., 0., 1., 0.],\n",
       "       [0., 0., 0., 1.]])"
      ]
     },
     "execution_count": 22,
     "metadata": {},
     "output_type": "execute_result"
    }
   ],
   "source": [
    "np.identity(4)"
   ]
  },
  {
   "cell_type": "code",
   "execution_count": 23,
   "id": "1c833065-9ed3-4a80-81f0-2ad96f86e204",
   "metadata": {},
   "outputs": [
    {
     "name": "stdout",
     "output_type": "stream",
     "text": [
      "[ 0.19568143  0.48329088 -0.58581835  1.00009503  1.09689707]\n",
      "[ 0.48329088 -0.58581835  1.00009503]\n",
      "[ 0.48329088 -0.58581835  1.00009503]\n"
     ]
    }
   ],
   "source": [
    "arr = np.random.randn(5)\n",
    "print(arr)\n",
    "print(arr[1:4])\n",
    "print(arr[1:-1])"
   ]
  },
  {
   "cell_type": "code",
   "execution_count": 25,
   "id": "2ef95979-de7f-4226-9937-ff924e04b5ab",
   "metadata": {},
   "outputs": [
    {
     "name": "stdout",
     "output_type": "stream",
     "text": [
      "[0.19568143 0.48329088 1.00009503 1.09689707]\n"
     ]
    }
   ],
   "source": [
    "print(arr[arr > 0.15])"
   ]
  }
 ],
 "metadata": {
  "kernelspec": {
   "display_name": "Python 3 (ipykernel)",
   "language": "python",
   "name": "python3"
  },
  "language_info": {
   "codemirror_mode": {
    "name": "ipython",
    "version": 3
   },
   "file_extension": ".py",
   "mimetype": "text/x-python",
   "name": "python",
   "nbconvert_exporter": "python",
   "pygments_lexer": "ipython3",
   "version": "3.12.4"
  }
 },
 "nbformat": 4,
 "nbformat_minor": 5
}
