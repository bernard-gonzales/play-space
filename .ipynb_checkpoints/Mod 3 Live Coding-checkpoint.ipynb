{
 "cells": [
  {
   "cell_type": "code",
   "execution_count": 1,
   "id": "982ddd8f-b75a-418f-bca9-a8b9b55ce2f1",
   "metadata": {},
   "outputs": [],
   "source": [
    "import numpy as np\n",
    "import pandas as pd\n",
    "import json\n",
    "import requests"
   ]
  },
  {
   "cell_type": "markdown",
   "id": "1084d5f9-757e-4ca6-b97b-1fad4c1a6f63",
   "metadata": {},
   "source": [
    "User-agent string: some text that describes the system we are using to access the webpage. Generally good etiquette to supply your user agent string as a \"header\" in a HTTP call"
   ]
  },
  {
   "cell_type": "code",
   "execution_count": 2,
   "id": "452ec000-2e38-4ccd-bf34-7eaf970fab91",
   "metadata": {},
   "outputs": [
    {
     "data": {
      "text/plain": [
       "<Response [200]>"
      ]
     },
     "execution_count": 2,
     "metadata": {},
     "output_type": "execute_result"
    }
   ],
   "source": [
    "url = 'https://httpbin.org/user-agent'\n",
    "r = requests.get(url)\n",
    "r"
   ]
  },
  {
   "cell_type": "markdown",
   "id": "c9338bdb-a3af-4f1f-8a53-be96b962ce3c",
   "metadata": {},
   "source": [
    "The four key methods in the JSON package:\n",
    "1. loads - convert a string in the Python kernel to dictionaries/lists\n",
    "2. load - load a text file and store it as dictionaries/lists\n",
    "3. dumps - convert a dictionary/list in the Python kernel to a string\n",
    "4. dump - save a dictionary/list in the Python kernel to a text file"
   ]
  },
  {
   "cell_type": "code",
   "execution_count": 6,
   "id": "6e63613e-3d33-48ee-92e7-94de88897750",
   "metadata": {},
   "outputs": [],
   "source": [
    "myjson = json.loads(r.text)\n",
    "useragent = myjson['user-agent']\n",
    "headers = {'User-Agent': useragent,\n",
    "           'From': 'qja8kc@virginia.edu'}"
   ]
  },
  {
   "cell_type": "code",
   "execution_count": 7,
   "id": "0ffc1e58-9ff0-4e56-b7b4-4311285e0f58",
   "metadata": {},
   "outputs": [
    {
     "data": {
      "text/plain": [
       "{'User-Agent': 'python-requests/2.32.3', 'From': 'qja8kc@virginia.edu'}"
      ]
     },
     "execution_count": 7,
     "metadata": {},
     "output_type": "execute_result"
    }
   ],
   "source": [
    "headers"
   ]
  },
  {
   "cell_type": "markdown",
   "id": "61664f29-5e1e-4887-b3f5-516145743059",
   "metadata": {},
   "source": [
    "## Cocktail DB"
   ]
  },
  {
   "cell_type": "code",
   "execution_count": 9,
   "id": "b8780da7-f162-461c-aae6-5725f5de0fd3",
   "metadata": {},
   "outputs": [
    {
     "data": {
      "text/plain": [
       "<Response [200]>"
      ]
     },
     "execution_count": 9,
     "metadata": {},
     "output_type": "execute_result"
    }
   ],
   "source": [
    "url = 'http://www.thecocktaildb.com/api/json/v1/1/filter.php?c=Cocktail'\n",
    "r = requests.get(url, headers=headers)\n",
    "r"
   ]
  },
  {
   "cell_type": "code",
   "execution_count": 14,
   "id": "52286cfa-44ab-4fe7-8dbe-9e1c2b49db0b",
   "metadata": {},
   "outputs": [
    {
     "data": {
      "text/html": [
       "<div>\n",
       "<style scoped>\n",
       "    .dataframe tbody tr th:only-of-type {\n",
       "        vertical-align: middle;\n",
       "    }\n",
       "\n",
       "    .dataframe tbody tr th {\n",
       "        vertical-align: top;\n",
       "    }\n",
       "\n",
       "    .dataframe thead th {\n",
       "        text-align: right;\n",
       "    }\n",
       "</style>\n",
       "<table border=\"1\" class=\"dataframe\">\n",
       "  <thead>\n",
       "    <tr style=\"text-align: right;\">\n",
       "      <th></th>\n",
       "      <th>strDrink</th>\n",
       "      <th>strDrinkThumb</th>\n",
       "      <th>idDrink</th>\n",
       "    </tr>\n",
       "  </thead>\n",
       "  <tbody>\n",
       "    <tr>\n",
       "      <th>0</th>\n",
       "      <td>155 Belmont</td>\n",
       "      <td>https://www.thecocktaildb.com/images/media/dri...</td>\n",
       "      <td>15346</td>\n",
       "    </tr>\n",
       "    <tr>\n",
       "      <th>1</th>\n",
       "      <td>57 Chevy with a White License Plate</td>\n",
       "      <td>https://www.thecocktaildb.com/images/media/dri...</td>\n",
       "      <td>14029</td>\n",
       "    </tr>\n",
       "    <tr>\n",
       "      <th>2</th>\n",
       "      <td>747 Drink</td>\n",
       "      <td>https://www.thecocktaildb.com/images/media/dri...</td>\n",
       "      <td>178318</td>\n",
       "    </tr>\n",
       "    <tr>\n",
       "      <th>3</th>\n",
       "      <td>9 1/2 Weeks</td>\n",
       "      <td>https://www.thecocktaildb.com/images/media/dri...</td>\n",
       "      <td>16108</td>\n",
       "    </tr>\n",
       "    <tr>\n",
       "      <th>4</th>\n",
       "      <td>A Gilligan's Island</td>\n",
       "      <td>https://www.thecocktaildb.com/images/media/dri...</td>\n",
       "      <td>16943</td>\n",
       "    </tr>\n",
       "    <tr>\n",
       "      <th>...</th>\n",
       "      <td>...</td>\n",
       "      <td>...</td>\n",
       "      <td>...</td>\n",
       "    </tr>\n",
       "    <tr>\n",
       "      <th>95</th>\n",
       "      <td>Miami Vice</td>\n",
       "      <td>https://www.thecocktaildb.com/images/media/dri...</td>\n",
       "      <td>13936</td>\n",
       "    </tr>\n",
       "    <tr>\n",
       "      <th>96</th>\n",
       "      <td>Michelada</td>\n",
       "      <td>https://www.thecocktaildb.com/images/media/dri...</td>\n",
       "      <td>178343</td>\n",
       "    </tr>\n",
       "    <tr>\n",
       "      <th>97</th>\n",
       "      <td>Midnight Mint</td>\n",
       "      <td>https://www.thecocktaildb.com/images/media/dri...</td>\n",
       "      <td>14842</td>\n",
       "    </tr>\n",
       "    <tr>\n",
       "      <th>98</th>\n",
       "      <td>Mojito</td>\n",
       "      <td>https://www.thecocktaildb.com/images/media/dri...</td>\n",
       "      <td>11000</td>\n",
       "    </tr>\n",
       "    <tr>\n",
       "      <th>99</th>\n",
       "      <td>Mojito Extra</td>\n",
       "      <td>https://www.thecocktaildb.com/images/media/dri...</td>\n",
       "      <td>15841</td>\n",
       "    </tr>\n",
       "  </tbody>\n",
       "</table>\n",
       "<p>100 rows × 3 columns</p>\n",
       "</div>"
      ],
      "text/plain": [
       "                               strDrink  \\\n",
       "0                           155 Belmont   \n",
       "1   57 Chevy with a White License Plate   \n",
       "2                             747 Drink   \n",
       "3                           9 1/2 Weeks   \n",
       "4                   A Gilligan's Island   \n",
       "..                                  ...   \n",
       "95                           Miami Vice   \n",
       "96                            Michelada   \n",
       "97                        Midnight Mint   \n",
       "98                               Mojito   \n",
       "99                         Mojito Extra   \n",
       "\n",
       "                                        strDrinkThumb idDrink  \n",
       "0   https://www.thecocktaildb.com/images/media/dri...   15346  \n",
       "1   https://www.thecocktaildb.com/images/media/dri...   14029  \n",
       "2   https://www.thecocktaildb.com/images/media/dri...  178318  \n",
       "3   https://www.thecocktaildb.com/images/media/dri...   16108  \n",
       "4   https://www.thecocktaildb.com/images/media/dri...   16943  \n",
       "..                                                ...     ...  \n",
       "95  https://www.thecocktaildb.com/images/media/dri...   13936  \n",
       "96  https://www.thecocktaildb.com/images/media/dri...  178343  \n",
       "97  https://www.thecocktaildb.com/images/media/dri...   14842  \n",
       "98  https://www.thecocktaildb.com/images/media/dri...   11000  \n",
       "99  https://www.thecocktaildb.com/images/media/dri...   15841  \n",
       "\n",
       "[100 rows x 3 columns]"
      ]
     },
     "execution_count": 14,
     "metadata": {},
     "output_type": "execute_result"
    }
   ],
   "source": [
    "myjson = json.loads(r.text)\n",
    "pd.json_normalize(myjson, record_path = ['drinks'])"
   ]
  },
  {
   "cell_type": "markdown",
   "id": "3a25ae85-7afc-4cba-9a42-ac7b90d0da2c",
   "metadata": {},
   "source": [
    "## Wikipedia"
   ]
  },
  {
   "cell_type": "code",
   "execution_count": 15,
   "id": "60d25b06-0db2-4eee-93aa-62ec93218506",
   "metadata": {},
   "outputs": [
    {
     "data": {
      "text/plain": [
       "<Response [200]>"
      ]
     },
     "execution_count": 15,
     "metadata": {},
     "output_type": "execute_result"
    }
   ],
   "source": [
    "url = 'https://en.wikipedia.org/w/api.php?action=query&list=search&srsearch=Virginia&format=json&srlimit=500'\n",
    "r = requests.get(url, headers=headers)\n",
    "r"
   ]
  },
  {
   "cell_type": "code",
   "execution_count": 16,
   "id": "72f5c9b5-b1e4-4764-bd26-a811b5be66d4",
   "metadata": {},
   "outputs": [],
   "source": [
    "myjson = json.loads(r.text)"
   ]
  },
  {
   "cell_type": "code",
   "execution_count": 17,
   "id": "5ee3869b-735c-407a-97fc-04d02f0b18c6",
   "metadata": {},
   "outputs": [],
   "source": [
    "virginia_wiki_df = pd.json_normalize(myjson, record_path=['query', 'search'])"
   ]
  },
  {
   "cell_type": "markdown",
   "id": "b0e14f46-51e2-451f-b6d1-3a158fc9adf6",
   "metadata": {},
   "source": [
    "# News API"
   ]
  },
  {
   "cell_type": "code",
   "execution_count": 18,
   "id": "c3a17eb4-5a0f-4ac2-96f6-b8e289af166d",
   "metadata": {},
   "outputs": [],
   "source": [
    "# DON'T EVER DO THIS!!!\n",
    "# Instead use a .env file to store API keys and bring them into Python without displaying them (covered in module 4)\n",
    "apikey = 'da787464998642fba5f37773a73db3d0'"
   ]
  },
  {
   "cell_type": "code",
   "execution_count": 24,
   "id": "5ffeea98-ae87-44b7-bf65-372596d204f3",
   "metadata": {},
   "outputs": [],
   "source": [
    "params = {'q': 'Florida man',\n",
    "          'apiKey': apikey}\n",
    "\n",
    "url = 'https://newsapi.org/v2/everything'\n",
    "r = requests.get(url, headers=headers, params=params)\n",
    "myjson = json.loads(r.text)\n",
    "news_df = pd.json_normalize(myjson, record_path=['articles'])"
   ]
  },
  {
   "cell_type": "code",
   "execution_count": 25,
   "id": "031151d0-28ef-46bc-946f-e86c8c50d4e5",
   "metadata": {},
   "outputs": [
    {
     "name": "stdout",
     "output_type": "stream",
     "text": [
      "Florida Man Thinks He’s Smarter Than Highway Patrol\n",
      "Florida Man Builds 10-Foot-Wide Tiny Home To Spite Neighbors, Then Lists It For $600,000\n",
      "Florida man pleads not guilty to kidnapping his estranged wife from her apartment in Spain\n",
      "The Florida deputy who shot U.S. airman Roger Fortson has been fired\n",
      "Man who fled California due to the ‘cost of living, politics, traffic and crime’ says he’s ‘much happier’ in Florida\n",
      "3 Alabama Men Die After Becoming Distressed While Swimming at Florida Beach\n",
      "Florida two-way star Caglianone keys MCWS win\n",
      "Florida sniper shoots, kills bank robber holding hostages through computer monitor: Video\n",
      "Display of a captured wolf in a Wyoming bar brings outrage\n",
      "3 Alabama men die after becoming distressed while swimming at Florida beach\n",
      "WATCH: Florida fugitive flees traffic stop, is rammed by police\n",
      "WATCH: Florida braces for new round of dangerous flooding\n",
      "WATCH: 12-year-old wins 2024 Scripps National Spelling Bee\n",
      "WATCH: Sea turtles interact in rare sighting off the coast of Florida\n",
      "Here's what every member of the Trump family is up to after leaving the White House\n",
      "Video that appears to show IDF soldier threatening mutiny in Gaza shared by son of Israeli PM Benjamin Netanyahu, say reports\n",
      "Aggressive Shark Repeatedly Rams Florida Man’s Jet Ski\n",
      "Officers indicted for 2019 shootout with robbers that killed UPS driver and passerby\n",
      "See it: Catfish 'the size of a 6th grader' tops state record after pulled from Oklahoma reservoir\n",
      "Extreme heat contributed to his brother’s death. He worries he could be next\n",
      "Passenger Dies After Falling Overboard From World’s Largest Cruise Ship\n",
      "'I’m One Tap Away From Publishing Your Nudes': 12 Horror Stories About Extortion Attempts on Grindr\n",
      "2 Live Crew Rapper Brother Marquis Dies at 58\n",
      "With Tyson out, Paul to fight Bare Knuckle's Perry\n",
      "WR Dell on shooting: 'Wrong place, wrong time'\n",
      "Lifeguard Dies After Being Attacked by Shark While Surfing in Hawaii\n",
      "A passenger fell off the world’s biggest cruise ship and died\n",
      "Crime blotter: California Apple Store theft suspects in court\n",
      "Florida Sniper Shoots Bank Robber Through Computer, Rescues Hostages\n",
      "Panthers Win Game 2 vs. McDavid, Oilers as NHL Fans Hype Evan Rodrigues' Late Goals\n",
      "A Florida family is suing NASA after a piece of space debris crashed through their home\n",
      "5 great Netflix movies to watch on Juneteenth\n",
      "19-year-old speaks out after surviving shark attack in Texas\n",
      "Oklahoma voters to decide between GOP incumbent Tom Cole, challenger Paul Bondar\n",
      "Heat and snowfall, rain and wildfires. It’s a week of extreme weather in the U.S\n",
      "Two years after Dobbs; militants attack in southern Russia\n",
      "At Least 22 Dead After Memorial Day Weekend Storms Sweep Through Several States\n",
      "Volusia, Flagler sheriffs' offices face lawsuits over chase that killed innocent siblings\n",
      "Alligator Attacks Man Swimming in Florida Lake\n",
      "Insider Today: Travel agents are back\n",
      "Draisaitl verliert mit den Oilers auch das dritte NHL-Finalspiel\n",
      "Rory McIlroy, Wife Erica Call Off Divorce: Our 'Best Future' Is as a Family Together\n",
      "Florida Sheriff Grady Judd Decides He’s Capable Of Running An AI Crime Thingy\n",
      "Studie zu den USA: Ältere Frauen verbreiten besonders viel Desinformation\n",
      "Deadly Winter Springs carjacking suspects set woman ablaze after carjacking her for $170K: new federal docs\n",
      "Arizona Man Indicted After Planning Mass Shooting at Atlanta Concert to Incite Race War\n",
      "AI chatbots just can’t shake off gender stereotypes, here’s why\n",
      "What Mitch McConnell's truce with Trump means\n",
      "Giant Venomous Flying Spiders Invading New York, Spreading Up East Coast\n",
      "New Florida Law Allows C-Sections To Be Performed By Any Machete-Wielding Lunatic\n",
      "Accused lookout in James “Whitey” Bulger prison killing pleads guilty, gets no additional time\n",
      "Rangers Take 2-1 Series Lead vs. Panthers as NHL Fans Praise Wennberg's G3 OT Goal\n",
      "Florida man arrested over surprise furniture donation in NYC [Florida]\n",
      "A Director Cameo Unites The Bad Boys Sequels – And It Demands A Proper Investigation\n",
      "Florida Man: \"Man, I'm gonna go to the grocery store and start cooking\" [Florida]\n",
      "Vivek Ramaswamy's 'Truth': What the Trump VP prospect's podcast reveals about his future\n",
      "Wild pigs, conquering all Florida counties, now taking over USA...\n",
      "Some Gen Z and baby boomers are facing a strange predicament: feeling happy and lonely at the same time\n",
      "Florida Man tries to recreate 'Lord of the Flies' with predictable results [Florida]\n",
      "Taking the right seriously\n",
      "Trump-endorsed Nancy Mace fighting to keep her South Carolina congressional seat\n",
      "Garland blasts conspiracy theories about Trump criminal case and FBI\n",
      "All the People Who Have Been Shot by Their Dogs\n",
      "Denzel Curry – “Hot One” (Feat. FERG & TiaCorine)\n",
      "New 'Space Cadet' trailer enlists Emma Roberts into NASA's astronaut program (video)\n",
      "Florida man with same name as Deadpool character sits in court with ridiculous new face tattoos [Florida]\n",
      "Florida teens reenact Fast & Furious to save passed-out man in sinking car. Vin Diesel would be proud [Florida]\n",
      "If You Build It (a Cricket Stadium on Long Island), Will They Come?\n",
      "When Yorkie-poos Fly\n",
      "★ Trump Endorses Louisiana Law Requiring the Ten Commandments Be Displayed in Public Schools\n",
      "Emma Roberts Trains to Be an Astronaut in 'Space Cadet' Movie Trailer\n",
      "Angry Florida Man Rams Deputy’s Car\n",
      "The Florida Man Who Headbanged in a Hurricane\n",
      "Florida Man Pleads Guilty to Wire Fraud Conspiracy Tied to Forcount Crypto Ponzi\n",
      "How George Floyd’s Death Exposed a Fake Syndrome: ‘Excited Delirium’\n",
      "EA Sports College Football 25 preview: Come for the pageantry, stay for the gameplay\n",
      "Convicted Felon Trump Forced to Beg Most Embarrassing Ally for Help\n",
      "„War überrascht, wie nahe sie waren“ - Kreuzfahrt-Passagier berichtet von Begegnung mit russischen Kriegsschiffen\n",
      "FLORIDA MAN FRIDAY [VIP]: The Score Doesn’t Lie: This Is the Greatest Florida Man Friday EVER.\n",
      "DNA on plastic fork in Florida cracks 15-year-old unsolved NYC homicide\n",
      "Trump flunks another science test in ‘Fox & Friends’ interview\n",
      "Dave Grohl Takes Jab At Taylor Swift During Foo Fighters’ London Show: “We Actually Play Live”\n",
      "Groom-to-be catches massive hammerhead shark during bachelor party in Florida. Cool tag steps in as best man [Cool]\n",
      "How to Pick Stocks Like You’re in Congress\n",
      "It is that time of the year again\n",
      "Given the choice of paying for his stolen beer or going to jail, Florida Man pops one open and picks the latter option [Florida]\n",
      "An inside look at the weekend the GameStop frenzy began on WallStreetBets\n",
      "Man arrested after going into unlocked bank and not stealing any money [Florida]\n",
      "Jing Ai Ng’s Dark Comedy ‘Forge’ Adds Seven To Cast\n",
      "Stonks, music history, geography, and Florida Man are all on the Fark Weird News Quiz, May 30 - June 5 D-Day Edition [Weird]\n",
      "The legacy of Chester Stone, Florida man and internet sensation\n",
      "Florida homeless men sue Seminole for criminalizing panhandling\n",
      "The Misfit Who Built the IBM PC\n",
      "John Calipari Talks New Roster 'Formula' at Arkansas, Lessons Learned from Kentucky\n",
      "A Florida Man Was Arrested for Filming Marion County Sheriff's Deputies. Now He's Suing.\n",
      "FLORIDA, MAN: Florida ranked top of list for startup activity, economic health. “For its findings, W\n",
      "College Baseball Super Regionals 2024: Results, Highlights and Bracket from Friday\n",
      "Honor Thy Father: The Saga Of A Drug Smuggler’s Son\n",
      "Nation Gripped by Mystery of Missing Florida Woman Who Went to Start New Life Overseas\n",
      "Wie dieser Satellit die Wettervorhersagen deutlich verbessern soll\n"
     ]
    },
    {
     "data": {
      "text/plain": [
       "[None,\n",
       " None,\n",
       " None,\n",
       " None,\n",
       " None,\n",
       " None,\n",
       " None,\n",
       " None,\n",
       " None,\n",
       " None,\n",
       " None,\n",
       " None,\n",
       " None,\n",
       " None,\n",
       " None,\n",
       " None,\n",
       " None,\n",
       " None,\n",
       " None,\n",
       " None,\n",
       " None,\n",
       " None,\n",
       " None,\n",
       " None,\n",
       " None,\n",
       " None,\n",
       " None,\n",
       " None,\n",
       " None,\n",
       " None,\n",
       " None,\n",
       " None,\n",
       " None,\n",
       " None,\n",
       " None,\n",
       " None,\n",
       " None,\n",
       " None,\n",
       " None,\n",
       " None,\n",
       " None,\n",
       " None,\n",
       " None,\n",
       " None,\n",
       " None,\n",
       " None,\n",
       " None,\n",
       " None,\n",
       " None,\n",
       " None,\n",
       " None,\n",
       " None,\n",
       " None,\n",
       " None,\n",
       " None,\n",
       " None,\n",
       " None,\n",
       " None,\n",
       " None,\n",
       " None,\n",
       " None,\n",
       " None,\n",
       " None,\n",
       " None,\n",
       " None,\n",
       " None,\n",
       " None,\n",
       " None,\n",
       " None,\n",
       " None,\n",
       " None,\n",
       " None,\n",
       " None,\n",
       " None,\n",
       " None,\n",
       " None,\n",
       " None,\n",
       " None,\n",
       " None,\n",
       " None,\n",
       " None,\n",
       " None,\n",
       " None,\n",
       " None,\n",
       " None,\n",
       " None,\n",
       " None,\n",
       " None,\n",
       " None,\n",
       " None,\n",
       " None,\n",
       " None,\n",
       " None,\n",
       " None,\n",
       " None,\n",
       " None,\n",
       " None,\n",
       " None,\n",
       " None,\n",
       " None]"
      ]
     },
     "execution_count": 25,
     "metadata": {},
     "output_type": "execute_result"
    }
   ],
   "source": [
    "[print(x) for x in news_df['title']]"
   ]
  }
 ],
 "metadata": {
  "kernelspec": {
   "display_name": "Python 3 (ipykernel)",
   "language": "python",
   "name": "python3"
  },
  "language_info": {
   "codemirror_mode": {
    "name": "ipython",
    "version": 3
   },
   "file_extension": ".py",
   "mimetype": "text/x-python",
   "name": "python",
   "nbconvert_exporter": "python",
   "pygments_lexer": "ipython3",
   "version": "3.12.4"
  }
 },
 "nbformat": 4,
 "nbformat_minor": 5
}
