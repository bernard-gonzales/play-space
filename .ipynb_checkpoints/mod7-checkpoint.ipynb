{
 "cells": [
  {
   "cell_type": "code",
   "execution_count": 1,
   "id": "4f45574c-2286-4307-bf55-5729625e1670",
   "metadata": {},
   "outputs": [],
   "source": [
    "class MyClass:\n",
    "    '''Example class for Exercise 7.1'''\n",
    "    \n",
    "    att1 = \"foo\"\n",
    "\n",
    "    def __init__(self, att2):\n",
    "        self.att2 = att2\n",
    "\n",
    "    def add(self):\n",
    "        print(self.att1 + ' ' + self.att2)"
   ]
  },
  {
   "cell_type": "code",
   "execution_count": 2,
   "id": "d7726abf-edad-43a8-bde7-d6627f349d15",
   "metadata": {},
   "outputs": [],
   "source": [
    "obj = MyClass(\"second attribute\")"
   ]
  },
  {
   "cell_type": "code",
   "execution_count": 5,
   "id": "12168600-c6c6-42ff-94f7-a261f5edc36d",
   "metadata": {},
   "outputs": [
    {
     "data": {
      "text/plain": [
       "'foo'"
      ]
     },
     "execution_count": 5,
     "metadata": {},
     "output_type": "execute_result"
    }
   ],
   "source": [
    "obj.att1"
   ]
  },
  {
   "cell_type": "code",
   "execution_count": 6,
   "id": "9c8d250b-2c8a-405a-af40-3dd0151b0197",
   "metadata": {},
   "outputs": [
    {
     "data": {
      "text/plain": [
       "'second attribute'"
      ]
     },
     "execution_count": 6,
     "metadata": {},
     "output_type": "execute_result"
    }
   ],
   "source": [
    "obj.att2"
   ]
  },
  {
   "cell_type": "code",
   "execution_count": 7,
   "id": "e144c8a8-b365-4eca-b4be-fb1a6fdc181f",
   "metadata": {},
   "outputs": [
    {
     "name": "stdout",
     "output_type": "stream",
     "text": [
      "foo second attribute\n"
     ]
    }
   ],
   "source": [
    "obj.add()"
   ]
  },
  {
   "cell_type": "code",
   "execution_count": 10,
   "id": "773e67bf-69c1-4f0c-af84-f8cb30ed2144",
   "metadata": {},
   "outputs": [],
   "source": [
    "import pandas as pd\n",
    "\n",
    "class Student:\n",
    "    \n",
    "    def __init__(self, name, userid):\n",
    "        self.name = name\n",
    "        self.userid = userid\n",
    "        self.grades = pd.Series(dtype=float)\n",
    "\n",
    "    def add_assignment(self, assignment, grade):\n",
    "        self.grades.loc[assignment] = grade\n",
    "\n",
    "    def show_grades(self):\n",
    "        self.grades.plot.bar(title=f\"Grades for {self.name} ({self.userid})\")"
   ]
  },
  {
   "cell_type": "code",
   "execution_count": 11,
   "id": "cfb76243-eda8-440d-acb6-f8d28ac6aa80",
   "metadata": {},
   "outputs": [
    {
     "data": {
      "image/png": "[encoded data removed]",
      "text/plain": [
       "<Figure size 640x480 with 1 Axes>"
      ]
     },
     "metadata": {},
     "output_type": "display_data"
    }
   ],
   "source": [
    "stu = Student(\"Bernard\", \"qja8kc\")\n",
    "stu.add_assignment(\"HW01\", 0)\n",
    "stu.add_assignment(\"HW02\", 80)\n",
    "stu.add_assignment(\"HW03\", 100)\n",
    "stu.add_assignment(\"HW04\", 99)\n",
    "stu.show_grades()"
   ]
  },
  {
   "cell_type": "code",
   "execution_count": 13,
   "id": "bda1ca0f-1068-41b5-b051-5a88c177542a",
   "metadata": {},
   "outputs": [],
   "source": [
    "class V3:\n",
    "\n",
    "    def __init__(self, instance_size, num_vcpus, memory, disk_space):\n",
    "        self.instace_size = instance_size\n",
    "        self.num_vcpus = num_vcpus\n",
    "        self.memory = memory\n",
    "        self.disk_space = disk_space\n",
    "\n",
    "    def add_disk_space(self, amt_to_add):\n",
    "        self.disk_space += amt_to_add\n",
    "\n",
    "    def has_enough_disk_space(self, amt_required):\n",
    "        if amt_required <= self.disk_space:\n",
    "            print(\"This cloud server has enough disk space.\")\n",
    "            return True\n",
    "        else:\n",
    "            print(\"This cloud server does NOT have enough disk space.\")\n",
    "            return False\n",
    "            "
   ]
  },
  {
   "cell_type": "code",
   "execution_count": 15,
   "id": "ce4493bb-1e53-47b0-87bf-854520729af3",
   "metadata": {},
   "outputs": [
    {
     "name": "stdout",
     "output_type": "stream",
     "text": [
      "3.0\n",
      "This cloud server does NOT have enough disk space.\n"
     ]
    },
    {
     "data": {
      "text/plain": [
       "False"
      ]
     },
     "execution_count": 15,
     "metadata": {},
     "output_type": "execute_result"
    }
   ],
   "source": [
    "server = V3('large', 32, 256, 1.)\n",
    "server.add_disk_space(2.)\n",
    "print(server.disk_space)\n",
    "server.has_enough_disk_space(10.)"
   ]
  },
  {
   "cell_type": "code",
   "execution_count": 16,
   "id": "bbf6a5a2-d92b-49f7-83a3-898980a0341e",
   "metadata": {},
   "outputs": [],
   "source": [
    "from math import pi\n",
    "\n",
    "class Circle:\n",
    "\n",
    "    def __init__(self, radius):\n",
    "        self.radius = radius\n",
    "\n",
    "    def area(self):\n",
    "        return round(self.radius**2 * pi, 2)\n",
    "\n",
    "    def circumference(self):\n",
    "        return round(2 * self.radius * pi, 2)"
   ]
  },
  {
   "cell_type": "code",
   "execution_count": 17,
   "id": "940ad398-4744-4d36-8ad0-69a26fa82c2c",
   "metadata": {},
   "outputs": [
    {
     "name": "stdout",
     "output_type": "stream",
     "text": [
      "A: 201.06\n",
      "C: 50.27\n"
     ]
    }
   ],
   "source": [
    "my_circle = Circle(8)\n",
    "print(\"A:\", my_circle.area())\n",
    "print(\"C:\", my_circle.circumference())"
   ]
  }
 ],
 "metadata": {
  "kernelspec": {
   "display_name": "Python 3 (ipykernel)",
   "language": "python",
   "name": "python3"
  },
  "language_info": {
   "codemirror_mode": {
    "name": "ipython",
    "version": 3
   },
   "file_extension": ".py",
   "mimetype": "text/x-python",
   "name": "python",
   "nbconvert_exporter": "python",
   "pygments_lexer": "ipython3",
   "version": "3.12.4"
  }
 },
 "nbformat": 4,
 "nbformat_minor": 5
}
