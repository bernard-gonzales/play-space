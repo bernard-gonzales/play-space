{
 "cells": [
  {
   "cell_type": "code",
   "execution_count": 7,
   "id": "80a35569-b8ed-496b-b083-416e4b9002d6",
   "metadata": {},
   "outputs": [
    {
     "name": "stdout",
     "output_type": "stream",
     "text": [
      "False\n"
     ]
    }
   ],
   "source": [
    "def check_string_length(string, length):\n",
    "    '''\n",
    "    Given a string str, check if its length is equivalent to the argument len.\n",
    "\n",
    "    INPUTS\n",
    "    str string\n",
    "    len int\n",
    "\n",
    "    OUTPUTS\n",
    "    bool\n",
    "    '''\n",
    "    return len(string) == length\n",
    "print(check_string_length(\"Is this the right text length for the string?\", 30))"
   ]
  },
  {
   "cell_type": "code",
   "execution_count": 8,
   "id": "61105799-8a45-4f3d-85e1-6131f8fbcb51",
   "metadata": {},
   "outputs": [
    {
     "name": "stdout",
     "output_type": "stream",
     "text": [
      "1\n",
      "4\n",
      "9\n",
      "16\n",
      "100\n"
     ]
    }
   ],
   "source": [
    "def square(*args):\n",
    "    for x in args:\n",
    "        print(x * x)\n",
    "square(1,2,3,4,10)"
   ]
  },
  {
   "cell_type": "code",
   "execution_count": null,
   "id": "fb3ea48d-e0a2-48d9-9263-133288dd9283",
   "metadata": {},
   "outputs": [],
   "source": [
    "def word_shortener(word):\n",
    "    '''\n",
    "    Shortens a word in the format of the first letter, capitalized, plus the number of missing letters, plus the last letter, capitalized.\n",
    "    ex. \"internationalization\" -> \"I18N\"\n",
    "    '''\n",
    "    if isinstance(word, str) and len(word) >= 4:\n",
    "        return word[0].upper() + (len(word) - 2) + word[-1].upper()\n",
    "    elif isinstance(word, str):\n",
    "        return \"Word is too short\"\n",
    "    else:\n",
    "        return \"This function only accepts string arguments\""
   ]
  },
  {
   "cell_type": "code",
   "execution_count": 14,
   "id": "99fd88e9-f759-4ad8-892d-070e3bd02684",
   "metadata": {},
   "outputs": [
    {
     "name": "stdout",
     "output_type": "stream",
     "text": [
      "1\n",
      "1\n",
      "0\n",
      "0\n",
      "0\n"
     ]
    }
   ],
   "source": [
    "def negative(num):\n",
    "    return (num - 5 >= 0) + 0\n",
    "print(negative(8))\n",
    "print(negative(5))\n",
    "print(negative(3))\n",
    "print(negative(0))\n",
    "print(negative(-1))"
   ]
  }
 ],
 "metadata": {
  "kernelspec": {
   "display_name": "Python 3 (ipykernel)",
   "language": "python",
   "name": "python3"
  },
  "language_info": {
   "codemirror_mode": {
    "name": "ipython",
    "version": 3
   },
   "file_extension": ".py",
   "mimetype": "text/x-python",
   "name": "python",
   "nbconvert_exporter": "python",
   "pygments_lexer": "ipython3",
   "version": "3.12.4"
  }
 },
 "nbformat": 4,
 "nbformat_minor": 5
}
