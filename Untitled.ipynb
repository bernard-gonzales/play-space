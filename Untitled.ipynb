{
 "cells": [
  {
   "cell_type": "code",
   "execution_count": null,
   "id": "51021367-2125-44ca-9bb7-4dfef4511d13",
   "metadata": {},
   "outputs": [],
   "source": [
    "fib <- numeric(10)\n",
    "fib[1] <- fib[2] <- 1\n",
    "for (i in 2:9) {\n",
    "  fib[i + 1] <- c(fib[i - 1] + fib[i])\n",
    "}"
   ]
  },
  {
   "cell_type": "code",
   "execution_count": null,
   "id": "a229122f-0bcf-45f6-8cec-eb0dbaad1237",
   "metadata": {},
   "outputs": [],
   "source": [
    "fibonacci <- function(len=10) {\n",
    "  fib <- numeric(len)\n",
    "  fib[1] <- fib[2] <- 1\n",
    "  for (i in 2:len-1) {\n",
    "    fib[i + 1] <- c(fib[i - 1] + fib[i])\n",
    "  }\n",
    "}"
   ]
  }
 ],
 "metadata": {
  "kernelspec": {
   "display_name": "",
   "name": ""
  },
  "language_info": {
   "name": ""
  }
 },
 "nbformat": 4,
 "nbformat_minor": 5
}
