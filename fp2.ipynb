{
 "cells": [
  {
   "cell_type": "code",
   "execution_count": 3,
   "id": "c11c08c5-e67c-4c69-baec-764189cb562c",
   "metadata": {},
   "outputs": [],
   "source": [
    "class Rectangle:\n",
    "\n",
    "    def __init__(self, length, width):\n",
    "        self.length = length\n",
    "        self.width = width\n",
    "\n",
    "    def area(self):\n",
    "        a = self.length * self.width\n",
    "        return a"
   ]
  },
  {
   "cell_type": "code",
   "execution_count": 4,
   "id": "75de7d35-8bc0-45b9-b513-8c8c2a7ac80e",
   "metadata": {},
   "outputs": [
    {
     "name": "stdout",
     "output_type": "stream",
     "text": [
      "6\n",
      "60\n"
     ]
    }
   ],
   "source": [
    "a = Rectangle(2, 3)\n",
    "print(a.area())\n",
    "b = Rectangle(6, 10)\n",
    "print(b.area())"
   ]
  },
  {
   "cell_type": "code",
   "execution_count": 5,
   "id": "c05dfa0c-f5b8-42d8-b3a3-fef4bf8cc7e9",
   "metadata": {},
   "outputs": [],
   "source": [
    "class Geometry:\n",
    "\n",
    "    def rectangle_area(length, width):\n",
    "        return length * width"
   ]
  },
  {
   "cell_type": "code",
   "execution_count": 6,
   "id": "772785d8-933a-45ef-8d5f-6f66f4d598ea",
   "metadata": {},
   "outputs": [
    {
     "data": {
      "text/plain": [
       "21"
      ]
     },
     "execution_count": 6,
     "metadata": {},
     "output_type": "execute_result"
    }
   ],
   "source": [
    "Geometry.rectangle_area(3, 7)"
   ]
  },
  {
   "cell_type": "code",
   "execution_count": 7,
   "id": "d4301956-0a84-4415-af0f-689d4dd661d1",
   "metadata": {},
   "outputs": [],
   "source": [
    "class T2T:\n",
    "\n",
    "    c2f = lambda x: 1.8 * x + 32\n",
    "\n",
    "    f2c = lambda x: (x - 32) / 1.8"
   ]
  },
  {
   "cell_type": "code",
   "execution_count": 8,
   "id": "4f9a53c5-56a8-4a5c-9707-d70e36affdd1",
   "metadata": {},
   "outputs": [
    {
     "data": {
      "text/plain": [
       "113.0"
      ]
     },
     "execution_count": 8,
     "metadata": {},
     "output_type": "execute_result"
    }
   ],
   "source": [
    "T2T.c2f(45)"
   ]
  },
  {
   "cell_type": "code",
   "execution_count": null,
   "id": "82f9ca56-6569-4353-8abc-67ac1f932125",
   "metadata": {},
   "outputs": [],
   "source": []
  }
 ],
 "metadata": {
  "kernelspec": {
   "display_name": "Python 3 (ipykernel)",
   "language": "python",
   "name": "python3"
  },
  "language_info": {
   "codemirror_mode": {
    "name": "ipython",
    "version": 3
   },
   "file_extension": ".py",
   "mimetype": "text/x-python",
   "name": "python",
   "nbconvert_exporter": "python",
   "pygments_lexer": "ipython3",
   "version": "3.12.4"
  }
 },
 "nbformat": 4,
 "nbformat_minor": 5
}
