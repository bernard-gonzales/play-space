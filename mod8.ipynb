{
 "cells": [
  {
   "cell_type": "code",
   "execution_count": 2,
   "id": "258b42d5-fab0-4361-9eca-dbc8c96b663b",
   "metadata": {},
   "outputs": [
    {
     "name": "stdout",
     "output_type": "stream",
     "text": [
      "Exception was caught, the error message was: division by zero\n"
     ]
    }
   ],
   "source": [
    "try:\n",
    "    x = 1 / 0\n",
    "    print('x =', x)\n",
    "except ZeroDivisionError as e:\n",
    "    print('Exception was caught, the error message was:', e)"
   ]
  },
  {
   "cell_type": "code",
   "execution_count": 4,
   "id": "c498def6-7d76-4b9a-91ab-dec72666aefd",
   "metadata": {},
   "outputs": [
    {
     "ename": "AssertionError",
     "evalue": "this is false",
     "output_type": "error",
     "traceback": [
      "\u001b[1;31m---------------------------------------------------------------------------\u001b[0m",
      "\u001b[1;31mAssertionError\u001b[0m                            Traceback (most recent call last)",
      "Cell \u001b[1;32mIn[4], line 4\u001b[0m\n\u001b[0;32m      2\u001b[0m falsey \u001b[38;5;241m=\u001b[39m \u001b[38;5;241m0\u001b[39m \u001b[38;5;241m==\u001b[39m \u001b[38;5;241m1\u001b[39m\n\u001b[0;32m      3\u001b[0m \u001b[38;5;28;01massert\u001b[39;00m truey, \u001b[38;5;124m'\u001b[39m\u001b[38;5;124mthis is false\u001b[39m\u001b[38;5;124m'\u001b[39m\n\u001b[1;32m----> 4\u001b[0m \u001b[38;5;28;01massert\u001b[39;00m falsey, \u001b[38;5;124m'\u001b[39m\u001b[38;5;124mthis is false\u001b[39m\u001b[38;5;124m'\u001b[39m\n",
      "\u001b[1;31mAssertionError\u001b[0m: this is false"
     ]
    }
   ],
   "source": [
    "truey = 1 == 1\n",
    "falsey = 0 == 1\n",
    "assert truey, 'this is false'\n",
    "assert falsey, 'this is false'"
   ]
  },
  {
   "cell_type": "code",
   "execution_count": 6,
   "id": "c8652bdd-3a47-4086-a33d-a62c3ddf0a7d",
   "metadata": {},
   "outputs": [],
   "source": [
    "import math\n",
    "def area(radius):\n",
    "    return round(radius**2 * math.pi, 2)\n",
    "assert type(area(1)) is float\n",
    "assert area(0) == 0\n",
    "assert math.isclose(area(5), 78.5, abs_tol=0.1)"
   ]
  },
  {
   "cell_type": "code",
   "execution_count": null,
   "id": "c191d6c8-f857-460f-9d39-5931cee724df",
   "metadata": {},
   "outputs": [],
   "source": [
    "class Student:\n",
    "    \n",
    "    # constructor\n",
    "    def __init__(self, name, courses=None):\n",
    "        self.name = name # string type\n",
    "        self.courses = [] if courses is None else courses # list of strings\n",
    "        self.num_courses = len(self.courses)\n",
    "        \n",
    "    # enroll in a course\n",
    "    def enroll_in_course(self, course_name): \n",
    "        self.courses.append(course_name)\n",
    "        self.num_courses += 1 # increment the number of courses\n",
    "\n",
    "    def unenroll_in_course(self, course_name):\n",
    "        if course_name not in self.courses:\n",
    "            raise ValueError('Student is not enrolled in \\'' + course_name + '\\'')\n",
    "        self.courses.remove(course_name)\n",
    "        self.num_courses -= 1"
   ]
  },
  {
   "cell_type": "code",
   "execution_count": null,
   "id": "c66ac1d4-f741-4b94-a5df-fa9042f64396",
   "metadata": {},
   "outputs": [],
   "source": [
    "bernard = Student('bernard', ['DS 5100', 'DS 6001', 'STAT 6021'])\n",
    "def test_01(self):\n",
    "    assert bernard.num_courses == 3\n",
    "bernard.unenroll_in_course('DS 5100')\n",
    "def test_02(self):\n",
    "    assert 'DS 5100' not in bernard.courses\n"
   ]
  },
  {
   "cell_type": "code",
   "execution_count": null,
   "id": "64170f30-faee-4c3a-86b4-ec3ee2940ecc",
   "metadata": {},
   "outputs": [],
   "source": [
    "class Car:\n",
    "    body_types = ['suv', 'crossover', 'sedan', 'hatchback', 'sport']\n",
    "    engine_types = ['electric', 'gas', 'diesel', 'hybrid']\n",
    "\n",
    "    def __init__(self, body_type, engine_type):\n",
    "        if body_type not in body_types:\n",
    "            raise ValueError('Invalid body type.')\n",
    "        if engine_type not in engine_types:\n",
    "            raise ValueError('Invalid engine type.')\n",
    "        self.body_type = body_type\n",
    "        self.engine_type = engine_type\n",
    "\n",
    "    def describe_car(self):\n",
    "        return f'{engine_type} {body_type}'\n",
    "\n",
    "\n",
    "\n",
    "\n",
    "class Subaru(Car):\n",
    "    def __init__(self, body_type, engine_type, year, model, trim=None):\n",
    "        self.year = year\n",
    "        self.model = model\n",
    "        self.trim = trim\n",
    "        Car.__init__(self, body_type, engine_type)\n",
    "        # super().__init__(body_type, engine_type)\n",
    "\n",
    "    def describe(self):\n",
    "        return f'{self.year} {self.model} {self.trim} ({self.describe_car()})'"
   ]
  }
 ],
 "metadata": {
  "kernelspec": {
   "display_name": "Python 3 (ipykernel)",
   "language": "python",
   "name": "python3"
  },
  "language_info": {
   "codemirror_mode": {
    "name": "ipython",
    "version": 3
   },
   "file_extension": ".py",
   "mimetype": "text/x-python",
   "name": "python",
   "nbconvert_exporter": "python",
   "pygments_lexer": "ipython3",
   "version": "3.12.4"
  }
 },
 "nbformat": 4,
 "nbformat_minor": 5
}
